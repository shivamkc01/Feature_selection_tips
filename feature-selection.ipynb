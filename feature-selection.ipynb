{
 "cells": [
  {
   "cell_type": "code",
   "execution_count": null,
   "id": "4214ea57",
   "metadata": {
    "_cell_guid": "b1076dfc-b9ad-4769-8c92-a6c4dae69d19",
    "_uuid": "8f2839f25d086af736a60e9eeb907d3b93b6e0e5",
    "papermill": {
     "duration": 0.01937,
     "end_time": "2021-08-27T09:42:08.473087",
     "exception": false,
     "start_time": "2021-08-27T09:42:08.453717",
     "status": "completed"
    },
    "tags": []
   },
   "outputs": [],
   "source": []
  },
  {
   "cell_type": "markdown",
   "id": "60254ae0",
   "metadata": {
    "papermill": {
     "duration": 0.017633,
     "end_time": "2021-08-27T09:42:08.511236",
     "exception": false,
     "start_time": "2021-08-27T09:42:08.493603",
     "status": "completed"
    },
    "tags": []
   },
   "source": [
    "Having too many features pose a problem well known as the curse of dimensionality. </br></br>\n",
    "The simplest form of selecting features would be to <b>remove features with very low variance.</b></br></br>\n",
    "If the features have a very low variance (i.e. very close to 0), they are close to being constant and thus, do not add any value to any model at all. It would just be nice to get rid of them and hence lower the complexity. Please note that the variance also depends on scaling of the data.\n"
   ]
  },
  {
   "cell_type": "code",
   "execution_count": 1,
   "id": "ae04f89a",
   "metadata": {
    "execution": {
     "iopub.execute_input": "2021-08-27T09:42:08.562358Z",
     "iopub.status.busy": "2021-08-27T09:42:08.561644Z",
     "iopub.status.idle": "2021-08-27T09:42:11.891506Z",
     "shell.execute_reply": "2021-08-27T09:42:11.892034Z",
     "shell.execute_reply.started": "2021-08-27T09:01:59.256104Z"
    },
    "papermill": {
     "duration": 3.36307,
     "end_time": "2021-08-27T09:42:11.892336",
     "exception": false,
     "start_time": "2021-08-27T09:42:08.529266",
     "status": "completed"
    },
    "tags": []
   },
   "outputs": [
    {
     "name": "stdout",
     "output_type": "stream",
     "text": [
      "51\n"
     ]
    },
    {
     "data": {
      "text/plain": [
       "['ind_var2_0',\n",
       " 'ind_var2',\n",
       " 'ind_var18_0',\n",
       " 'ind_var18',\n",
       " 'ind_var27_0',\n",
       " 'ind_var28_0',\n",
       " 'ind_var28',\n",
       " 'ind_var27',\n",
       " 'ind_var34_0',\n",
       " 'ind_var34',\n",
       " 'ind_var41',\n",
       " 'ind_var46_0',\n",
       " 'ind_var46',\n",
       " 'num_var18_0',\n",
       " 'num_var18',\n",
       " 'num_var27_0',\n",
       " 'num_var28_0',\n",
       " 'num_var28',\n",
       " 'num_var27',\n",
       " 'num_var34_0',\n",
       " 'num_var34',\n",
       " 'num_var41',\n",
       " 'num_var46_0',\n",
       " 'num_var46',\n",
       " 'saldo_var18',\n",
       " 'saldo_var28',\n",
       " 'saldo_var27',\n",
       " 'saldo_var34',\n",
       " 'saldo_var41',\n",
       " 'saldo_var46',\n",
       " 'delta_imp_amort_var18_1y3',\n",
       " 'delta_imp_amort_var34_1y3',\n",
       " 'imp_amort_var18_hace3',\n",
       " 'imp_amort_var18_ult1',\n",
       " 'imp_amort_var34_hace3',\n",
       " 'imp_amort_var34_ult1',\n",
       " 'imp_reemb_var13_hace3',\n",
       " 'imp_reemb_var17_hace3',\n",
       " 'imp_reemb_var33_hace3',\n",
       " 'imp_trasp_var17_out_hace3',\n",
       " 'imp_trasp_var33_out_hace3',\n",
       " 'num_var2_0_ult1',\n",
       " 'num_var2_ult1',\n",
       " 'num_reemb_var13_hace3',\n",
       " 'num_reemb_var17_hace3',\n",
       " 'num_reemb_var33_hace3',\n",
       " 'num_trasp_var17_out_hace3',\n",
       " 'num_trasp_var33_out_hace3',\n",
       " 'saldo_var2_ult1',\n",
       " 'saldo_medio_var13_medio_hace3',\n",
       " 'saldo_medio_var29_hace3']"
      ]
     },
     "execution_count": 1,
     "metadata": {},
     "output_type": "execute_result"
    }
   ],
   "source": [
    "import pandas as pd\n",
    "from sklearn.feature_selection import VarianceThreshold\n",
    "X_train = pd.read_csv(\"../input/santaner/train.csv\", nrows=35000)\n",
    "X_test = pd.read_csv(\"../input/santaner/test.csv\", nrows=15000)\n",
    "\n",
    "# drop TARGET label from X_train\n",
    "X_train.drop(labels=['TARGET'], axis=1, inplace = True)\n",
    "\n",
    "# check shape of training and test sets\n",
    "X_train.shape, X_test.shape\n",
    "\n",
    "\n",
    "var_thresh = VarianceThreshold(threshold=0)  # 0.1 indicates 99% of observations approximately\n",
    "var_thresh.fit(X_train)\n",
    "# get_support is a boolean vector that indicates which features \n",
    "# are retained. If we sum over get_support, we get the number\n",
    "# of features that are not quasi-constant\n",
    "sum(var_thresh.get_support())\n",
    "\"\"\"\n",
    "alternative way of doing the above operation:\n",
    "len(X_train.columns[sel.get_support()])\n",
    "\"\"\"\n",
    "# finally we can print the quasi-constant features\n",
    "print(\n",
    "    len([x for x in X_train.columns if x not in X_train.columns[var_thresh.get_support()]])\n",
    ")\n",
    "\n",
    "[x for x in X_train.columns if x not in X_train.columns[var_thresh.get_support()]]\n"
   ]
  },
  {
   "cell_type": "markdown",
   "id": "7e9347ca",
   "metadata": {
    "papermill": {
     "duration": 0.018528,
     "end_time": "2021-08-27T09:42:11.930115",
     "exception": false,
     "start_time": "2021-08-27T09:42:11.911587",
     "status": "completed"
    },
    "tags": []
   },
   "source": [
    "- We can see that there are 51 columns / variables that are constant. This means that 51 variables show the same value, just one value, for all the observations of the training set.\n",
    "</br></br>\n",
    "- We then use the transform function to reduce the training and testing sets."
   ]
  },
  {
   "cell_type": "code",
   "execution_count": 2,
   "id": "ba5f8cb1",
   "metadata": {
    "execution": {
     "iopub.execute_input": "2021-08-27T09:42:11.978683Z",
     "iopub.status.busy": "2021-08-27T09:42:11.977980Z",
     "iopub.status.idle": "2021-08-27T09:42:12.070985Z",
     "shell.execute_reply": "2021-08-27T09:42:12.071500Z",
     "shell.execute_reply.started": "2021-08-27T09:03:59.624468Z"
    },
    "papermill": {
     "duration": 0.122684,
     "end_time": "2021-08-27T09:42:12.071684",
     "exception": false,
     "start_time": "2021-08-27T09:42:11.949000",
     "status": "completed"
    },
    "tags": []
   },
   "outputs": [],
   "source": [
    "# we can then drop these columns from the train and test sets\n",
    "X_train = var_thresh.transform(X_train)\n",
    "X_test = var_thresh.transform(X_test)"
   ]
  },
  {
   "cell_type": "code",
   "execution_count": 3,
   "id": "5e5e2839",
   "metadata": {
    "execution": {
     "iopub.execute_input": "2021-08-27T09:42:12.116002Z",
     "iopub.status.busy": "2021-08-27T09:42:12.114916Z",
     "iopub.status.idle": "2021-08-27T09:42:12.119810Z",
     "shell.execute_reply": "2021-08-27T09:42:12.119256Z",
     "shell.execute_reply.started": "2021-08-27T09:04:18.104642Z"
    },
    "papermill": {
     "duration": 0.028674,
     "end_time": "2021-08-27T09:42:12.119956",
     "exception": false,
     "start_time": "2021-08-27T09:42:12.091282",
     "status": "completed"
    },
    "tags": []
   },
   "outputs": [
    {
     "data": {
      "text/plain": [
       "((35000, 319), (15000, 319))"
      ]
     },
     "execution_count": 3,
     "metadata": {},
     "output_type": "execute_result"
    }
   ],
   "source": [
    "# check the shape of training and test set\n",
    "X_train.shape, X_test.shape"
   ]
  },
  {
   "cell_type": "markdown",
   "id": "5916f53b",
   "metadata": {
    "papermill": {
     "duration": 0.018723,
     "end_time": "2021-08-27T09:42:12.158047",
     "exception": false,
     "start_time": "2021-08-27T09:42:12.139324",
     "status": "completed"
    },
    "tags": []
   },
   "source": []
  },
  {
   "cell_type": "markdown",
   "id": "982496cb",
   "metadata": {
    "papermill": {
     "duration": 0.019104,
     "end_time": "2021-08-27T09:42:12.196395",
     "exception": false,
     "start_time": "2021-08-27T09:42:12.177291",
     "status": "completed"
    },
    "tags": []
   },
   "source": [
    "- We can see how by removing constant features, we managed to reduced the feature space quite a bit.\n"
   ]
  },
  {
   "cell_type": "code",
   "execution_count": 4,
   "id": "6643a827",
   "metadata": {
    "execution": {
     "iopub.execute_input": "2021-08-27T09:42:12.241873Z",
     "iopub.status.busy": "2021-08-27T09:42:12.241068Z",
     "iopub.status.idle": "2021-08-27T09:42:14.812941Z",
     "shell.execute_reply": "2021-08-27T09:42:14.812268Z",
     "shell.execute_reply.started": "2021-08-27T06:39:42.506827Z"
    },
    "papermill": {
     "duration": 2.597156,
     "end_time": "2021-08-27T09:42:14.813082",
     "exception": false,
     "start_time": "2021-08-27T09:42:12.215926",
     "status": "completed"
    },
    "tags": []
   },
   "outputs": [
    {
     "data": {
      "text/html": [
       "<div>\n",
       "<style scoped>\n",
       "    .dataframe tbody tr th:only-of-type {\n",
       "        vertical-align: middle;\n",
       "    }\n",
       "\n",
       "    .dataframe tbody tr th {\n",
       "        vertical-align: top;\n",
       "    }\n",
       "\n",
       "    .dataframe thead th {\n",
       "        text-align: right;\n",
       "    }\n",
       "</style>\n",
       "<table border=\"1\" class=\"dataframe\">\n",
       "  <thead>\n",
       "    <tr style=\"text-align: right;\">\n",
       "      <th></th>\n",
       "      <th>MedInc</th>\n",
       "      <th>HouseAge</th>\n",
       "      <th>AveRooms</th>\n",
       "      <th>AveBedrms</th>\n",
       "      <th>Population</th>\n",
       "      <th>AveOccup</th>\n",
       "      <th>Latitude</th>\n",
       "      <th>Longitude</th>\n",
       "      <th>MedInc_Sqrt</th>\n",
       "    </tr>\n",
       "  </thead>\n",
       "  <tbody>\n",
       "    <tr>\n",
       "      <th>MedInc</th>\n",
       "      <td>1.000000</td>\n",
       "      <td>-0.119034</td>\n",
       "      <td>0.326895</td>\n",
       "      <td>-0.062040</td>\n",
       "      <td>0.004834</td>\n",
       "      <td>0.018766</td>\n",
       "      <td>-0.079809</td>\n",
       "      <td>-0.015176</td>\n",
       "      <td>0.984329</td>\n",
       "    </tr>\n",
       "    <tr>\n",
       "      <th>HouseAge</th>\n",
       "      <td>-0.119034</td>\n",
       "      <td>1.000000</td>\n",
       "      <td>-0.153277</td>\n",
       "      <td>-0.077747</td>\n",
       "      <td>-0.296244</td>\n",
       "      <td>0.013191</td>\n",
       "      <td>0.011173</td>\n",
       "      <td>-0.108197</td>\n",
       "      <td>-0.132797</td>\n",
       "    </tr>\n",
       "    <tr>\n",
       "      <th>AveRooms</th>\n",
       "      <td>0.326895</td>\n",
       "      <td>-0.153277</td>\n",
       "      <td>1.000000</td>\n",
       "      <td>0.847621</td>\n",
       "      <td>-0.072213</td>\n",
       "      <td>-0.004852</td>\n",
       "      <td>0.106389</td>\n",
       "      <td>-0.027540</td>\n",
       "      <td>0.326688</td>\n",
       "    </tr>\n",
       "    <tr>\n",
       "      <th>AveBedrms</th>\n",
       "      <td>-0.062040</td>\n",
       "      <td>-0.077747</td>\n",
       "      <td>0.847621</td>\n",
       "      <td>1.000000</td>\n",
       "      <td>-0.066197</td>\n",
       "      <td>-0.006181</td>\n",
       "      <td>0.069721</td>\n",
       "      <td>0.013344</td>\n",
       "      <td>-0.066910</td>\n",
       "    </tr>\n",
       "    <tr>\n",
       "      <th>Population</th>\n",
       "      <td>0.004834</td>\n",
       "      <td>-0.296244</td>\n",
       "      <td>-0.072213</td>\n",
       "      <td>-0.066197</td>\n",
       "      <td>1.000000</td>\n",
       "      <td>0.069863</td>\n",
       "      <td>-0.108785</td>\n",
       "      <td>0.099773</td>\n",
       "      <td>0.018415</td>\n",
       "    </tr>\n",
       "    <tr>\n",
       "      <th>AveOccup</th>\n",
       "      <td>0.018766</td>\n",
       "      <td>0.013191</td>\n",
       "      <td>-0.004852</td>\n",
       "      <td>-0.006181</td>\n",
       "      <td>0.069863</td>\n",
       "      <td>1.000000</td>\n",
       "      <td>0.002366</td>\n",
       "      <td>0.002476</td>\n",
       "      <td>0.015266</td>\n",
       "    </tr>\n",
       "    <tr>\n",
       "      <th>Latitude</th>\n",
       "      <td>-0.079809</td>\n",
       "      <td>0.011173</td>\n",
       "      <td>0.106389</td>\n",
       "      <td>0.069721</td>\n",
       "      <td>-0.108785</td>\n",
       "      <td>0.002366</td>\n",
       "      <td>1.000000</td>\n",
       "      <td>-0.924664</td>\n",
       "      <td>-0.084303</td>\n",
       "    </tr>\n",
       "    <tr>\n",
       "      <th>Longitude</th>\n",
       "      <td>-0.015176</td>\n",
       "      <td>-0.108197</td>\n",
       "      <td>-0.027540</td>\n",
       "      <td>0.013344</td>\n",
       "      <td>0.099773</td>\n",
       "      <td>0.002476</td>\n",
       "      <td>-0.924664</td>\n",
       "      <td>1.000000</td>\n",
       "      <td>-0.015569</td>\n",
       "    </tr>\n",
       "    <tr>\n",
       "      <th>MedInc_Sqrt</th>\n",
       "      <td>0.984329</td>\n",
       "      <td>-0.132797</td>\n",
       "      <td>0.326688</td>\n",
       "      <td>-0.066910</td>\n",
       "      <td>0.018415</td>\n",
       "      <td>0.015266</td>\n",
       "      <td>-0.084303</td>\n",
       "      <td>-0.015569</td>\n",
       "      <td>1.000000</td>\n",
       "    </tr>\n",
       "  </tbody>\n",
       "</table>\n",
       "</div>"
      ],
      "text/plain": [
       "               MedInc  HouseAge  AveRooms  AveBedrms  Population  AveOccup  \\\n",
       "MedInc       1.000000 -0.119034  0.326895  -0.062040    0.004834  0.018766   \n",
       "HouseAge    -0.119034  1.000000 -0.153277  -0.077747   -0.296244  0.013191   \n",
       "AveRooms     0.326895 -0.153277  1.000000   0.847621   -0.072213 -0.004852   \n",
       "AveBedrms   -0.062040 -0.077747  0.847621   1.000000   -0.066197 -0.006181   \n",
       "Population   0.004834 -0.296244 -0.072213  -0.066197    1.000000  0.069863   \n",
       "AveOccup     0.018766  0.013191 -0.004852  -0.006181    0.069863  1.000000   \n",
       "Latitude    -0.079809  0.011173  0.106389   0.069721   -0.108785  0.002366   \n",
       "Longitude   -0.015176 -0.108197 -0.027540   0.013344    0.099773  0.002476   \n",
       "MedInc_Sqrt  0.984329 -0.132797  0.326688  -0.066910    0.018415  0.015266   \n",
       "\n",
       "             Latitude  Longitude  MedInc_Sqrt  \n",
       "MedInc      -0.079809  -0.015176     0.984329  \n",
       "HouseAge     0.011173  -0.108197    -0.132797  \n",
       "AveRooms     0.106389  -0.027540     0.326688  \n",
       "AveBedrms    0.069721   0.013344    -0.066910  \n",
       "Population  -0.108785   0.099773     0.018415  \n",
       "AveOccup     0.002366   0.002476     0.015266  \n",
       "Latitude     1.000000  -0.924664    -0.084303  \n",
       "Longitude   -0.924664   1.000000    -0.015569  \n",
       "MedInc_Sqrt -0.084303  -0.015569     1.000000  "
      ]
     },
     "execution_count": 4,
     "metadata": {},
     "output_type": "execute_result"
    }
   ],
   "source": [
    "\"\"\"\n",
    "We can also remove\n",
    "features which have a high correlation.\n",
    "For calculating the correlation \n",
    "between different numerical features,\n",
    "you can use the Pearson correlation.\n",
    "\"\"\"\n",
    "import pandas as pd \n",
    "import numpy as np\n",
    "from sklearn.datasets import fetch_california_housing\n",
    "\n",
    "# fetch a regression dataset\n",
    "data = fetch_california_housing()\n",
    "X = data[\"data\"]\n",
    "col_names = data[\"feature_names\"]\n",
    "y = data[\"target\"]\n",
    "\n",
    "# convert to pandas dataframe\n",
    "df = pd.DataFrame(X, columns=col_names)\n",
    "# introduce a highly correlated column\n",
    "df.loc[:, \"MedInc_Sqrt\"] = df.MedInc.apply(np.sqrt)\n",
    "\n",
    "# get correlation matrix (pearson)\n",
    "df.corr()"
   ]
  },
  {
   "cell_type": "markdown",
   "id": "8405acb5",
   "metadata": {
    "papermill": {
     "duration": 0.019329,
     "end_time": "2021-08-27T09:42:14.852345",
     "exception": false,
     "start_time": "2021-08-27T09:42:14.833016",
     "status": "completed"
    },
    "tags": []
   },
   "source": [
    "We see that the feature MedInc_Sqrt has a very high correlation with MedInc. We can thus remove one of them.\n"
   ]
  },
  {
   "cell_type": "markdown",
   "id": "dee65a95",
   "metadata": {
    "papermill": {
     "duration": 0.019302,
     "end_time": "2021-08-27T09:42:14.891335",
     "exception": false,
     "start_time": "2021-08-27T09:42:14.872033",
     "status": "completed"
    },
    "tags": []
   },
   "source": [
    "And now we can move to some univariate ways of feature selection. Univariate feature selection is nothing but a scoring of each feature against a given target. Mutual information, ANOVA F-test and chi2 are some of the most popular methods for univariate feature selection. There are two ways of using these in scikit- learn.\n",
    "- SelectKBest: It keeps the top-k scoring features\n",
    "- SelectPercentile: It keeps the top features which are in a percentage\n",
    "specified by the user\n",
    "</br></br>\n",
    "\n",
    "It must be noted that you can use chi2 only for data which is non-negative in nature.\n"
   ]
  },
  {
   "cell_type": "code",
   "execution_count": 5,
   "id": "94c1d1c8",
   "metadata": {
    "execution": {
     "iopub.execute_input": "2021-08-27T09:42:14.946506Z",
     "iopub.status.busy": "2021-08-27T09:42:14.943594Z",
     "iopub.status.idle": "2021-08-27T09:42:14.958045Z",
     "shell.execute_reply": "2021-08-27T09:42:14.959184Z",
     "shell.execute_reply.started": "2021-08-27T07:14:20.575217Z"
    },
    "papermill": {
     "duration": 0.048485,
     "end_time": "2021-08-27T09:42:14.959508",
     "exception": false,
     "start_time": "2021-08-27T09:42:14.911023",
     "status": "completed"
    },
    "tags": []
   },
   "outputs": [
    {
     "name": "stdout",
     "output_type": "stream",
     "text": [
      "[[8.3252]\n",
      " [8.3014]\n",
      " [7.2574]\n",
      " ...\n",
      " [1.7   ]\n",
      " [1.8672]\n",
      " [2.3886]]\n"
     ]
    }
   ],
   "source": [
    "from sklearn.feature_selection import chi2\n",
    "from sklearn.feature_selection import f_classif\n",
    "from sklearn.feature_selection import f_regression\n",
    "from sklearn.feature_selection import mutual_info_classif\n",
    "from sklearn.feature_selection import mutual_info_regression\n",
    "from sklearn.feature_selection import SelectKBest\n",
    "from sklearn.feature_selection import SelectPercentile\n",
    "\n",
    "\n",
    "class UnivariateFeatureSelection:\n",
    "    def __init__(self, n_features, problem_type, scoring):\n",
    "        \"\"\"\n",
    "        Custom univariate feature selection wrapper on\n",
    "        different univariate feature selection models from scikit-learn.\n",
    "        :param n_features: SelectPercentile if float else SelectKBest \n",
    "        :param problem_type: classification or regression\n",
    "        :param scoring: scoring function, string\n",
    "        \"\"\"\n",
    "        # for a given probelm type, there are only\n",
    "        # a few valid scoring methods\n",
    "        # methods if you wish\n",
    "        if problem_type == \"classification\":\n",
    "            valid_scoring = {\n",
    "                \"f_classif\" : f_classif,\n",
    "                \"chi2\" : chi2,\n",
    "                \"mutual_info_classif\" : mutual_info_classif\n",
    "            }\n",
    "        else:\n",
    "            valid_scoring = {\n",
    "                \"f_regression\" : f_regression,\n",
    "                \"mutual_info_regression\" : mutual_info_regression\n",
    "            }\n",
    "            \n",
    "        # raise exception if we do not have a valid scoring method\n",
    "        if scoring not in valid_scoring:\n",
    "            raise Exception(\"Invalid scoring function\")\n",
    "            \n",
    "        # if n_features is int, we use selectKbest\n",
    "        # if n_features is float, we use selectpercentile\n",
    "        # please note that is is int in both cases in sklearn\n",
    "        if isinstance(n_features, int):\n",
    "            self.selection = SelectKBest(\n",
    "                valid_scoring[scoring],\n",
    "                k=n_features\n",
    "            )\n",
    "        elif isinstance(n_features, float):\n",
    "            self.selection = SelectPercentile(\n",
    "                valid_scoring[scoring],\n",
    "                percentile=int(n_features * 100)\n",
    "            )\n",
    "        else:\n",
    "            raise Exception(\"Invalid type of feature\")\n",
    "            \n",
    "    # same fit function\n",
    "    def fit(self, X, y):\n",
    "        return self.selection.fit(X, y)\n",
    "    \n",
    "    # same transform function\n",
    "    def transform(self, X):\n",
    "        return self.selection.transform(X)\n",
    "    \n",
    "    # same fit_transform function\n",
    "    def fit_transform(self, X, y):\n",
    "        return self.selection.fit_transform(X, y)\n",
    "    \n",
    "ufs = UnivariateFeatureSelection(\n",
    "    n_features=0.1,\n",
    "    problem_type=\"regression\",\n",
    "    scoring=\"f_regression\"\n",
    ")\n",
    "ufs.fit(X,y)\n",
    "X_transformed = ufs.transform(X)\n",
    "print(X_transformed)"
   ]
  },
  {
   "cell_type": "markdown",
   "id": "b5a25bf4",
   "metadata": {
    "papermill": {
     "duration": 0.035524,
     "end_time": "2021-08-27T09:42:15.034522",
     "exception": false,
     "start_time": "2021-08-27T09:42:14.998998",
     "status": "completed"
    },
    "tags": []
   },
   "source": [
    "Note: That should take care of most of your univariate feature selection needs. Please note that it’s usually better to create less and important features than to create hundreds of features in the first place. Univariate feature selection may not always perform well. Most of the time, people prefer doing feature selection using a machine learning model. Let’s see how that is done."
   ]
  },
  {
   "cell_type": "markdown",
   "id": "465a2481",
   "metadata": {
    "papermill": {
     "duration": 0.019738,
     "end_time": "2021-08-27T09:42:15.088411",
     "exception": false,
     "start_time": "2021-08-27T09:42:15.068673",
     "status": "completed"
    },
    "tags": []
   },
   "source": [
    "#  ***The simplest form of feature selection that uses a model for selection is known as greedy feature selection.***"
   ]
  },
  {
   "cell_type": "markdown",
   "id": "f4476a4f",
   "metadata": {
    "papermill": {
     "duration": 0.01969,
     "end_time": "2021-08-27T09:42:15.128121",
     "exception": false,
     "start_time": "2021-08-27T09:42:15.108431",
     "status": "completed"
    },
    "tags": []
   },
   "source": [
    "In greedy feature selection, </br>\n",
    "the first step is to choose a model.</br> The second step is to select a loss/scoring function. </br>And the third and final step is to iteratively evaluate each feature and add it to the list of “good” features if it improves loss/score."
   ]
  },
  {
   "cell_type": "markdown",
   "id": "7e208969",
   "metadata": {
    "papermill": {
     "duration": 0.019742,
     "end_time": "2021-08-27T09:42:15.167980",
     "exception": false,
     "start_time": "2021-08-27T09:42:15.148238",
     "status": "completed"
    },
    "tags": []
   },
   "source": [
    "But you must keep in mind that this is known as greedy feature selection for a reason. This feature selection process will fit a given model each time it evaluates a feature. The computational cost associated with this kind of method is very high. It will also take a lot of time for this kind of feature selection to finish. And if you do not use this feature selection properly, then you might even end up overfitting the model."
   ]
  },
  {
   "cell_type": "code",
   "execution_count": 6,
   "id": "031fa06c",
   "metadata": {
    "execution": {
     "iopub.execute_input": "2021-08-27T09:42:15.222871Z",
     "iopub.status.busy": "2021-08-27T09:42:15.222155Z",
     "iopub.status.idle": "2021-08-27T09:42:16.899447Z",
     "shell.execute_reply": "2021-08-27T09:42:16.900716Z",
     "shell.execute_reply.started": "2021-08-27T08:27:31.924297Z"
    },
    "papermill": {
     "duration": 1.713151,
     "end_time": "2021-08-27T09:42:16.901013",
     "exception": false,
     "start_time": "2021-08-27T09:42:15.187862",
     "status": "completed"
    },
    "tags": []
   },
   "outputs": [
    {
     "name": "stdout",
     "output_type": "stream",
     "text": [
      "(1000, 99)\n",
      "[0.5142602281636506, 0.527800444807117, 0.527800444807117, 0.5354685674970799, 0.5379526072417158, 0.5437887006192099, 0.5560368965903455, 0.560296964751436, 0.5629570073121171, 0.5641610265764252, 0.5647730363685819, 0.5647730363685819, 0.5647730363685819, 0.581609305748892, 0.5850853613657818, 0.5850853613657818, 0.5850853613657818, 0.5860053760860173, 0.5860053760860173, 0.5860053760860173, 0.5860853773660379, 0.5871093937503, 0.5871093937503, 0.5871093937503, 0.5880974095585528, 0.5904214467431479, 0.5911414582633322, 0.5913934622953967, 0.5935534968559497, 0.5982095713531417, 0.9112425798812781, 0.9112425798812781, 0.9112425798812781, 0.9114585833373334, 0.9118345893534296, 0.9118345893534296, 0.9118585897374358, 0.9567993087889406, 0.9568873101969632, 0.9568873101969632, 0.9568873101969632, 0.9568873101969632, 0.9568873101969632, 0.9568873101969632, 0.9568953103249652, 0.9570073121169939, 0.9573153170450727, 0.9573153170450727, 0.9573153170450727, 0.9573153170450727, 0.957707323317173, 0.957707323317173, 0.957707323317173, 0.957707323317173, 0.957707323317173, 0.957707323317173, 0.9581113297812766, 0.9581113297812766, 0.958355333685339, 0.9584553352853645, 0.9584593353493656, 0.9589033424534792, 0.9591073457175314, 0.9592793484695754, 0.9592793484695754, 0.9593513496215939, 0.9593633498135969, 0.9596073537176595, 0.9596073537176595, 0.9596313541016656, 0.9597993567897086, 0.9597993567897086, 0.96050736811789, 0.960527368437895, 0.9606833709339349, 0.9608553736859791, 0.9608553736859791, 0.9608553736859791, 0.96101537624602, 0.96101537624602, 0.961035376566025, 0.9610753772060352, 0.9610753772060352, 0.9610793772700363, 0.9610793772700363, 0.9612193795100723, 0.9612193795100723, 0.9612193795100723, 0.9612873805980895, 0.9612873805980895, 0.9616393862301797, 0.9618073889182226, 0.9618073889182226, 0.9620753932062913, 0.9621073937182995, 0.9621073937182995, 0.9622393958303334, 0.9625474007584122, 0.9627114033824541]\n"
     ]
    }
   ],
   "source": [
    "# Let's see how it workds by looking at how its implemented.\n",
    "from sklearn import linear_model\n",
    "from sklearn import metrics\n",
    "from sklearn.datasets import make_classification\n",
    "\n",
    "class GreddyFeatureSelection:\n",
    "    \"\"\"\n",
    "    A simple and custom class \n",
    "    for greedy feature selection.\n",
    "    You will need to modify it quite \n",
    "    a bit to make it suitable for your dataset.\n",
    "    \"\"\"\n",
    "    def evaluate_score(self, X, y):\n",
    "        \"\"\"\n",
    "        This function evaluates model on data and returns Area Under ROC Curve (AUC)\n",
    "        NOTE: We fit the data and calculate AUC on same data. \n",
    "        WE ARE OVERFITTING HERE.\n",
    "        But this is also a way to achieve greedy selection.\n",
    "        k-fold will take k times longer.\n",
    "        If you want to implement it in really correct way, \n",
    "        calculate OOF AUC and return mean AUC over k folds.\n",
    "        This requires only a few lines of change and has been\n",
    "        shown a few times in this book.\n",
    "        \n",
    "        :param X: training data\n",
    "        :param y: targets\n",
    "        :return: overfitted area under the roc curve\n",
    "        \"\"\"\n",
    "        # fit the logistic regression model,\n",
    "        # and calculate AUC on same data\n",
    "        # again: BEWARE\n",
    "        # you can choose any model that suits your data.\n",
    "        \n",
    "        model = linear_model.LogisticRegression()\n",
    "        model.fit(X, y)\n",
    "        predictions = model.predict_proba(X)[:, 1]\n",
    "        auc = metrics.roc_auc_score(y, predictions)\n",
    "        return auc\n",
    "    \n",
    "    def feature_selection(self, X, y):\n",
    "        \"\"\"\n",
    "        This function does the actual greedy selection \n",
    "        :param X: data, numpy array\n",
    "        :param y: targets, numpy array\n",
    "        :return: (best scores, best features)\n",
    "        \"\"\"\n",
    "        # initialize good features list\n",
    "        # and best scores to keep track of both\n",
    "        good_features = []\n",
    "        best_scores = []\n",
    "        \n",
    "        # calculate the number of features\n",
    "        num_features = X.shape[1]\n",
    "        \n",
    "        # infinite loop\n",
    "        while True:\n",
    "            # initialize best feature and score of this loop\n",
    "            this_feature = None\n",
    "            best_score = 0\n",
    "            \n",
    "            # loop over all faetures\n",
    "            for feature in range(num_features):\n",
    "                # if feature is already in good features,\n",
    "                # skip this for loop\n",
    "                if feature in good_features:\n",
    "                    continue\n",
    "                # selected features are all good features till now\n",
    "                # and current feature\n",
    "                selected_features = good_features + [feature]\n",
    "                # remove all other features from data\n",
    "                xtrain = X[:, selected_features]\n",
    "                # calculate the score, in our case, AUC\n",
    "                score = self.evaluate_score(xtrain, y)\n",
    "                # if score is greater than the best score\n",
    "                # of this loop, change best score and best feature\n",
    "                if score > best_score:\n",
    "                    this_feature = feature\n",
    "                    best_score = score\n",
    "                    \n",
    "                # if we have selected a feature, add it\n",
    "                # to the good feature list and update best scores list\n",
    "                if this_feature != None:\n",
    "                    good_features.append(this_feature)\n",
    "                    best_scores.append(best_score)\n",
    "                    \n",
    "                # if we didn't improve during the previous round,\n",
    "                # exit the while loop\n",
    "                if len(best_scores) > 2:\n",
    "                    if best_scores[-1] < best_scores[-1]:\n",
    "                        break\n",
    "            # return best scores and good features\n",
    "            # why do we remove the last data point?\n",
    "            return best_scores[:-1], good_features[:-1]\n",
    "        \n",
    "    def __call__(self, X, y):\n",
    "        \"\"\"\n",
    "        call function will call the class on a set of arguments\n",
    "        \"\"\"\n",
    "        # select features, return scores and selected indices\n",
    "        scores, features = self.feature_selection(X, y)\n",
    "        # transform data with selected features\n",
    "        return X[:, features], scores\n",
    "        \n",
    "\n",
    "        \n",
    "if __name__ == \"__main__\":\n",
    "    # generate binary classification data\n",
    "    X, y = make_classification(\n",
    "        n_samples=1000,\n",
    "        n_features=100\n",
    "    )\n",
    "    \n",
    "    X_transformed, scores = GreddyFeatureSelection()(X, y)\n",
    "\n",
    "    print(X_transformed.shape)\n",
    "    print(list(scores))\n",
    "        "
   ]
  },
  {
   "cell_type": "markdown",
   "id": "bb34f559",
   "metadata": {
    "papermill": {
     "duration": 0.036538,
     "end_time": "2021-08-27T09:42:16.974001",
     "exception": false,
     "start_time": "2021-08-27T09:42:16.937463",
     "status": "completed"
    },
    "tags": []
   },
   "source": [
    "# **Another greedy approach is known as recursive feature elimination (RFE).**"
   ]
  },
  {
   "cell_type": "markdown",
   "id": "b78c6e42",
   "metadata": {
    "papermill": {
     "duration": 0.020374,
     "end_time": "2021-08-27T09:42:17.031876",
     "exception": false,
     "start_time": "2021-08-27T09:42:17.011502",
     "status": "completed"
    },
    "tags": []
   },
   "source": [
    "In the previous method, we started with one feature and kept adding new features, but in RFE, we start with all features and keep removing one feature in every iteration that provides the least value to a given model. But how to do we know which feature offers the least value? Well, if we use models like linear support vector machine (SVM) or logistic regression, we get a coefficient for each feature which decides the importance of the features. In case of any tree-based models, we get feature importance in place of coefficients. In each iteration, we can eliminate the least important feature and keep eliminating it until we reach the number of features needed."
   ]
  },
  {
   "cell_type": "markdown",
   "id": "9299c98a",
   "metadata": {
    "papermill": {
     "duration": 0.020221,
     "end_time": "2021-08-27T09:42:17.072530",
     "exception": false,
     "start_time": "2021-08-27T09:42:17.052309",
     "status": "completed"
    },
    "tags": []
   },
   "source": [
    "When we are doing recursive feature elimination, in each iteration, we remove the feature which has the feature importance or the feature which has a coefficient close to 0. Please remember that when you use a model like logistic regression for binary classification, the coefficients for features are more positive if they are important for the positive class and more negative if they are important for the negative class."
   ]
  },
  {
   "cell_type": "code",
   "execution_count": 7,
   "id": "dd10c757",
   "metadata": {
    "execution": {
     "iopub.execute_input": "2021-08-27T09:42:17.120519Z",
     "iopub.status.busy": "2021-08-27T09:42:17.119873Z",
     "iopub.status.idle": "2021-08-27T09:42:17.192820Z",
     "shell.execute_reply": "2021-08-27T09:42:17.193721Z",
     "shell.execute_reply.started": "2021-08-27T09:25:01.381150Z"
    },
    "papermill": {
     "duration": 0.100682,
     "end_time": "2021-08-27T09:42:17.193920",
     "exception": false,
     "start_time": "2021-08-27T09:42:17.093238",
     "status": "completed"
    },
    "tags": []
   },
   "outputs": [
    {
     "data": {
      "text/plain": [
       "array([[   8.3252,   37.88  , -122.23  ],\n",
       "       [   8.3014,   37.86  , -122.22  ],\n",
       "       [   7.2574,   37.85  , -122.24  ],\n",
       "       ...,\n",
       "       [   1.7   ,   39.43  , -121.22  ],\n",
       "       [   1.8672,   39.43  , -121.32  ],\n",
       "       [   2.3886,   39.37  , -121.24  ]])"
      ]
     },
     "execution_count": 7,
     "metadata": {},
     "output_type": "execute_result"
    }
   ],
   "source": [
    "import pandas as pd\n",
    "from sklearn.feature_selection import RFE\n",
    "from sklearn.linear_model import LinearRegression\n",
    "from sklearn.datasets import fetch_california_housing\n",
    "\n",
    "# fetch a regression dataset\n",
    "data = fetch_california_housing()\n",
    "X = data[\"data\"]\n",
    "col_names = data[\"feature_names\"]\n",
    "y = data[\"target\"]\n",
    "\n",
    "# initiliaze the model\n",
    "model = LinearRegression()\n",
    "# initialize RFE\n",
    "rfe = RFE(\n",
    "    estimator=model,\n",
    "    n_features_to_select=3\n",
    ")\n",
    "\n",
    "# fit RFE\n",
    "rfe.fit(X, y)\n",
    "\n",
    "# get the transformed data with\n",
    "# selected columns\n",
    "X_transformed = rfe.transform(X)\n",
    "X_transformed"
   ]
  },
  {
   "cell_type": "markdown",
   "id": "23c45ddd",
   "metadata": {
    "papermill": {
     "duration": 0.021303,
     "end_time": "2021-08-27T09:42:17.236236",
     "exception": false,
     "start_time": "2021-08-27T09:42:17.214933",
     "status": "completed"
    },
    "tags": []
   },
   "source": [
    "We saw two different greedy ways to select features from a model. But you can also fit the model to the data and select features from the model by the feature coefficients or the importance of features. If you use coefficients, you can select a threshold, and if the coefficient is above that threshold, you can keep the feature else eliminate it."
   ]
  },
  {
   "cell_type": "code",
   "execution_count": 8,
   "id": "4591f96e",
   "metadata": {
    "execution": {
     "iopub.execute_input": "2021-08-27T09:42:17.286323Z",
     "iopub.status.busy": "2021-08-27T09:42:17.285620Z",
     "iopub.status.idle": "2021-08-27T09:42:17.909429Z",
     "shell.execute_reply": "2021-08-27T09:42:17.909930Z",
     "shell.execute_reply.started": "2021-08-27T09:33:45.472194Z"
    },
    "papermill": {
     "duration": 0.653018,
     "end_time": "2021-08-27T09:42:17.910136",
     "exception": false,
     "start_time": "2021-08-27T09:42:17.257118",
     "status": "completed"
    },
    "tags": []
   },
   "outputs": [
    {
     "name": "stdout",
     "output_type": "stream",
     "text": [
      "['age', 'sex', 'bmi', 'bp', 's1', 's2', 's3', 's4', 's5', 's6']\n"
     ]
    },
    {
     "data": {
      "image/png": "[encoded data removed]",
      "text/plain": [
       "<Figure size 432x288 with 1 Axes>"
      ]
     },
     "metadata": {
      "needs_background": "light"
     },
     "output_type": "display_data"
    }
   ],
   "source": [
    "# Let'see how we can get feature importance from a model\n",
    "# like Random Forest\n",
    "\n",
    "import pandas as pd\n",
    "from sklearn.datasets import load_diabetes\n",
    "from sklearn.ensemble import RandomForestRegressor\n",
    "import matplotlib.pyplot as plt\n",
    "import numpy as np\n",
    "# fetch a regression dataest\n",
    "# in diabetes data we predict diavetes progression\n",
    "# after one year based on some features\n",
    "data = load_diabetes()\n",
    "X = data[\"data\"]\n",
    "col_names = data[\"feature_names\"]\n",
    "y = data[\"target\"]\n",
    "print(col_names)\n",
    "# initialize the model\n",
    "model = RandomForestRegressor()\n",
    "\n",
    "# fit the model\n",
    "model.fit(X, y)\n",
    "\n",
    "# Feature importances from random forest(or any model) and be plotted as follows.\n",
    "importances = model.feature_importances_\n",
    "idxs = np.argsort(importances)\n",
    "plt.title('Feature Importances')\n",
    "plt.barh(range(len(idxs)), importances[idxs], align='center')\n",
    "plt.yticks(range(len(idxs)), [col_names[i] for i in idxs])\n",
    "plt.xlabel('Random Forest Feature Importances')\n",
    "plt.show()"
   ]
  },
  {
   "cell_type": "markdown",
   "id": "449ae567",
   "metadata": {
    "papermill": {
     "duration": 0.021544,
     "end_time": "2021-08-27T09:42:17.954174",
     "exception": false,
     "start_time": "2021-08-27T09:42:17.932630",
     "status": "completed"
    },
    "tags": []
   },
   "source": [
    "- Well, selecting the best features from the model is nothing new. You can choose features from one model and use another model to train."
   ]
  },
  {
   "cell_type": "code",
   "execution_count": 9,
   "id": "d0083c63",
   "metadata": {
    "execution": {
     "iopub.execute_input": "2021-08-27T09:42:18.007335Z",
     "iopub.status.busy": "2021-08-27T09:42:18.006249Z",
     "iopub.status.idle": "2021-08-27T09:42:18.384869Z",
     "shell.execute_reply": "2021-08-27T09:42:18.384153Z",
     "shell.execute_reply.started": "2021-08-27T09:38:13.740883Z"
    },
    "papermill": {
     "duration": 0.408382,
     "end_time": "2021-08-27T09:42:18.385016",
     "exception": false,
     "start_time": "2021-08-27T09:42:17.976634",
     "status": "completed"
    },
    "tags": []
   },
   "outputs": [
    {
     "name": "stdout",
     "output_type": "stream",
     "text": [
      "['bmi', 's5']\n"
     ]
    }
   ],
   "source": [
    "# we select the features using default parameters in SelectFromModel.\n",
    "\n",
    "import pandas as pd\n",
    "from sklearn.datasets import load_diabetes\n",
    "from sklearn.ensemble import RandomForestRegressor\n",
    "from sklearn.feature_selection import SelectFromModel\n",
    "# fetch a regression dataset\n",
    "# in diabetes data we predict diabetes progression # after one year based on some features\n",
    "data = load_diabetes()\n",
    "X = data[\"data\"]\n",
    "col_names = data[\"feature_names\"]\n",
    "y = data[\"target\"]\n",
    "# initialize the model\n",
    "model = RandomForestRegressor()\n",
    "\n",
    "# select from the model\n",
    "sfm = SelectFromModel(estimator=model)\n",
    "X_transformed = sfm.fit(X, y)\n",
    "\n",
    "# see what features were selected\n",
    "support = sfm.get_support()\n",
    "\n",
    "# get features names\n",
    "print([\n",
    "    x for x, y in zip(col_names, support) if y == True\n",
    "])"
   ]
  },
  {
   "cell_type": "markdown",
   "id": "8bb12a68",
   "metadata": {
    "papermill": {
     "duration": 0.021821,
     "end_time": "2021-08-27T09:42:18.429093",
     "exception": false,
     "start_time": "2021-08-27T09:42:18.407272",
     "status": "completed"
    },
    "tags": []
   },
   "source": [
    "- we see that these are the top- 2 features."
   ]
  },
  {
   "cell_type": "markdown",
   "id": "99676e7e",
   "metadata": {
    "papermill": {
     "duration": 0.02174,
     "end_time": "2021-08-27T09:42:18.473059",
     "exception": false,
     "start_time": "2021-08-27T09:42:18.451319",
     "status": "completed"
    },
    "tags": []
   },
   "source": [
    "One more thing that we are missing here is feature selection using models that have L1 (Lasso) penalization. When we have L1 penalization for regularization, most coefficients will be 0 (or close to 0), and we select the features with non-zero coefficients. You can do it by just replacing random forest in the snippet of selection from a model with a model that supports L1 penalty, e.g. lasso regression. All tree-based models provide feature importance so all the model-based snippets shown in this chapter can be used for XGBoost, LightGBM or CatBoost. The feature importance function names might be different and may produce results in a different format, but the usage will remain the same. In the end, you must be careful when doing feature selection. Select features on training data and validate the model on validation data for proper selection of features without overfitting the model."
   ]
  },
  {
   "cell_type": "code",
   "execution_count": null,
   "id": "fde67d85",
   "metadata": {
    "papermill": {
     "duration": 0.021906,
     "end_time": "2021-08-27T09:42:18.517041",
     "exception": false,
     "start_time": "2021-08-27T09:42:18.495135",
     "status": "completed"
    },
    "tags": []
   },
   "outputs": [],
   "source": []
  }
 ],
 "metadata": {
  "kernelspec": {
   "display_name": "Python 3",
   "language": "python",
   "name": "python3"
  },
  "language_info": {
   "codemirror_mode": {
    "name": "ipython",
    "version": 3
   },
   "file_extension": ".py",
   "mimetype": "text/x-python",
   "name": "python",
   "nbconvert_exporter": "python",
   "pygments_lexer": "ipython3",
   "version": "3.7.10"
  },
  "papermill": {
   "default_parameters": {},
   "duration": 19.929037,
   "end_time": "2021-08-27T09:42:19.349816",
   "environment_variables": {},
   "exception": null,
   "input_path": "__notebook__.ipynb",
   "output_path": "__notebook__.ipynb",
   "parameters": {},
   "start_time": "2021-08-27T09:41:59.420779",
   "version": "2.3.3"
  }
 },
 "nbformat": 4,
 "nbformat_minor": 5
}
